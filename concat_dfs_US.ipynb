{
  "nbformat": 4,
  "nbformat_minor": 0,
  "metadata": {
    "colab": {
      "name": "concat_dfs_US.ipynb",
      "provenance": [],
      "authorship_tag": "ABX9TyPYRXLoc4EFFNa2FCkF60Sy",
      "include_colab_link": true
    },
    "kernelspec": {
      "name": "python3",
      "display_name": "Python 3"
    },
    "language_info": {
      "name": "python"
    }
  },
  "cells": [
    {
      "cell_type": "markdown",
      "metadata": {
        "id": "view-in-github",
        "colab_type": "text"
      },
      "source": [
        "<a href=\"https://colab.research.google.com/github/diomarcosta/concat_dataframes/blob/main/concat_dfs_US.ipynb\" target=\"_parent\"><img src=\"https://colab.research.google.com/assets/colab-badge.svg\" alt=\"Open In Colab\"/></a>"
      ]
    },
    {
      "cell_type": "code",
      "execution_count": 1,
      "metadata": {
        "id": "C7gHIhaYJDe2"
      },
      "outputs": [],
      "source": [
        "'''\n",
        "1. Import the libraries that will be used\n",
        "'''\n",
        "import pandas as pd\n",
        "import numpy as np"
      ]
    },
    {
      "cell_type": "code",
      "source": [
        "'''\n",
        "Read or create a dataframe. In this case, i'm creating. If read, the data and columns will be imported of readed dataframe\n",
        "\n",
        "2. Create the data of first dataframe with array of numpy\n",
        "2.1 the data can be variables and/or fixed. If variables, declare before\n",
        "The array need to have the same columns quantity of the second one\n",
        "'''\n",
        "value_2 = 'value_col2x'\n",
        "data_of_df1 = np.array(['value_col1x', value_2, 'value_col3x', '', ''])"
      ],
      "metadata": {
        "id": "Xuk1PLOIJZkl"
      },
      "execution_count": 2,
      "outputs": []
    },
    {
      "cell_type": "code",
      "source": [
        "'''\n",
        "3. Create the first dataframe with the first data and the second dataframe columns\n",
        "3.1 That columns will serv as headers for the second dataframe concat with the first\n",
        "3.2 At first, the columns will not be related to the data, as they belong to the second dataframe\n",
        "3.3 Remember, the data_of_df1 need to have the same quantity of columns of the second dataframe\n",
        "\n",
        "Ex.: If the second dataframe has 5 columns, you must add blank values for pandas to concatenate, so\n",
        "  df1_data = np.array(['value_'1, value_2, 'value_3', '',''])\n",
        "  df1 = pd.DataFrame(data=[data_do_df1], columns=['col_1', 'col_2', 'col_3', 'col_4', 'col_5])\n",
        "  \n",
        "IMPORTANT = Be aware of the number of columns that the second dataframe has, to create in the first and concat works\n",
        "This methodology works both for dataframes with columns with different names and for dataframes with different numbers of columns.\n",
        "'''\n",
        "df1 = pd.DataFrame(data=[data_of_df1], columns=['col_1y', 'col_2y', 'col_3y', 'col_4y', 'col_5y'])"
      ],
      "metadata": {
        "id": "P_9Zv4kGJeMK"
      },
      "execution_count": 3,
      "outputs": []
    },
    {
      "cell_type": "code",
      "source": [
        "#4. Create a line to serve as a header for the first dataframe\n",
        "df1.loc[-1] = ['col_1x', 'col_2x', 'col_3x', '', '']"
      ],
      "metadata": {
        "id": "ryqvLwOBJhgu"
      },
      "execution_count": 4,
      "outputs": []
    },
    {
      "cell_type": "code",
      "source": [
        "#5. Re-arrange the rows by index\n",
        "df1.index = df1.index + 1  # Shifting index\n",
        "df1 = df1.sort_index()"
      ],
      "metadata": {
        "id": "ywAgNsHKJlsN"
      },
      "execution_count": 5,
      "outputs": []
    },
    {
      "cell_type": "code",
      "source": [
        "#6. Create 2 blanks rows (if you wish, to separate the two dataframes) and the header for the second dataframe \n",
        "df1.loc[len(df1)] = ['', '', '', '', '']\n",
        "df1.loc[len(df1)] = ['', '', '', '', '']\n",
        "df1.loc[len(df1)] = ['col_1y', 'col_2y', 'col_3y', 'col_4y', 'col_5y']"
      ],
      "metadata": {
        "id": "l1Mz7E9jJny_"
      },
      "execution_count": 6,
      "outputs": []
    },
    {
      "cell_type": "code",
      "source": [
        "#7. Create or import the second dataframe, in this case I'll be creating\n",
        "# Remember, the columns of df2 is equals of df1 columns and the first row of df1 is its columns.\n",
        "data_of_df2 = np.array(['value_col_y1', 'value_col_2y', 'value_col_3y', 'value_col_4y', 'value_col_5y'])\n",
        "df2 = pd.DataFrame(data=[data_of_df2], columns=['col_1y', 'col_2y', 'col_3y', 'col_4y', 'col_5y'])"
      ],
      "metadata": {
        "id": "nziSLQoBJqD6"
      },
      "execution_count": 7,
      "outputs": []
    },
    {
      "cell_type": "code",
      "source": [
        "#8. Concat both Dataframes\n",
        "#You can create another one or just replace with a existing Dataframe\n",
        "df1 = pd.concat ([df1,df2])"
      ],
      "metadata": {
        "id": "PfUr-M0vJsvP"
      },
      "execution_count": 8,
      "outputs": []
    },
    {
      "cell_type": "code",
      "source": [
        "#9. After concat, just export to excel taking of all of the index and the headers. Put the .xlsx extension in the end of name\n",
        "df1.to_excel('Concat.xlsx', index=False, header=None)"
      ],
      "metadata": {
        "id": "UseXi3-fJwCn"
      },
      "execution_count": 9,
      "outputs": []
    }
  ]
}