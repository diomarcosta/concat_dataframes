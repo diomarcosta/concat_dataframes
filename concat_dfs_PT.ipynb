{
  "nbformat": 4,
  "nbformat_minor": 0,
  "metadata": {
    "colab": {
      "name": "concat_dfs_PT.ipynb",
      "provenance": [],
      "collapsed_sections": [],
      "authorship_tag": "ABX9TyO9gym3w6+d9eWBAyLIi8wG",
      "include_colab_link": true
    },
    "kernelspec": {
      "name": "python3",
      "display_name": "Python 3"
    },
    "language_info": {
      "name": "python"
    }
  },
  "cells": [
    {
      "cell_type": "markdown",
      "metadata": {
        "id": "view-in-github",
        "colab_type": "text"
      },
      "source": [
        "<a href=\"https://colab.research.google.com/github/diomarcosta/concat_dataframes/blob/main/concat_dfs_PT.ipynb\" target=\"_parent\"><img src=\"https://colab.research.google.com/assets/colab-badge.svg\" alt=\"Open In Colab\"/></a>"
      ]
    },
    {
      "cell_type": "code",
      "execution_count": null,
      "metadata": {
        "id": "EagQRUxVGHoF"
      },
      "outputs": [],
      "source": [
        "#Importe as bibliotecas que serão usadas\n",
        "import pandas as pd\n",
        "import numpy as np"
      ]
    },
    {
      "cell_type": "code",
      "source": [
        "'''\n",
        "Leia ou crie um Dataframe. Neste caso estou criando. Se ler, os dados e as colunas serão importadas do Dataframe lido.\n",
        "\n",
        "2. Crie os dados do primeiro Datafame com array do numpy\n",
        "2.1 Os dados podem ser variáveis ou fixos. Se forem variáveis, declare antes.\n",
        "O array precisa ter a mesma quantidade de colunas do segundo'''\n",
        "\n",
        "value_2 = 'value_col2x'\n",
        "data_of_df1 = np.array(['value_col1x', value_2, 'value_col3x', '', ''])"
      ],
      "metadata": {
        "id": "cD0jwh9-GhF-"
      },
      "execution_count": null,
      "outputs": []
    },
    {
      "cell_type": "code",
      "source": [
        "'''\n",
        "3. Crie o primeiro dataframe com os primeiros dados (percecente a ele) e com as colunas do segundo\n",
        "3.1 Essas colunas servirão como cabeçalhos para o segundo dataframe concatenado com o primeiro\n",
        "3.2 A princípio, as colunas não serão relacionadas aos dados, pois pertencem ao segundo dataframe\n",
        "3.3 Lembre-se, o data_of_df1 precisa ter a mesma quantidade de colunas do segundo dataframe\n",
        "\n",
        "Ex.: Se o segundo dataframe tiver 5 colunas, você deve adicionar valores em branco para que o pandas concatene, então\n",
        "   data_of_df1 = np.array(['valor_'1, valor_2, 'valor_3', '',''])\n",
        "   df1 = pd.DataFrame(data=[data_of_df1], columns=['col_1', 'col_2', 'col_3', 'col_4', 'col_5])\n",
        "  \n",
        "IMPORTANTE = Fique atendo no número de colunas que o segundo Dataframe tem para criar no primeiro e o concat funcionar.\n",
        "Essa metodologia funciona para Dataframes com colunas de nomes e tamanhos diferentes\n",
        "'''\n",
        "df1 = pd.DataFrame(data=[data_of_df1], columns=['col_1y', 'col_2y', 'col_3y', 'col_4y', 'col_5y'])"
      ],
      "metadata": {
        "id": "g8KE4_2OGv0L"
      },
      "execution_count": null,
      "outputs": []
    },
    {
      "cell_type": "code",
      "source": [
        "#4. Crie uma linha para servir de cabeçalho para o primeiro dataframe\n",
        "df1.loc[-1] = ['col_1x', 'col_2x', 'col_3x', '', '']\n",
        "#5. Re-ordene os index\n",
        "df1.index = df1.index + 1  # Subindo o index\n",
        "df1 = df1.sort_index()"
      ],
      "metadata": {
        "id": "gxBrJWNOHAmU"
      },
      "execution_count": null,
      "outputs": []
    },
    {
      "cell_type": "code",
      "source": [
        "#6. Crie 2 linhas em branco (se você quiser, para separar os dois dataframes) e o cabeçalho para o segundo Dataframe.\n",
        "df1.loc[len(df1)] = ['', '', '', '', '']\n",
        "df1.loc[len(df1)] = ['', '', '', '', '']\n",
        "df1.loc[len(df1)] = ['col_1y', 'col_2y', 'col_3y', 'col_4y', 'col_5y']"
      ],
      "metadata": {
        "id": "CZcRL6WuHH2q"
      },
      "execution_count": null,
      "outputs": []
    },
    {
      "cell_type": "code",
      "source": [
        "#7. Crie ou importe o segundo dataframe, neste caso estarei criando\n",
        "#Lembre-se, as colunas de df2 são iguais às colunas df1 e a primeira linha de df1 são suas colunas.\n",
        "data_of_df2 = np.array(['value_col_y1', 'value_col_2y', 'value_col_3y', 'value_col_4y', 'value_col_5y'])\n",
        "df2 = pd.DataFrame(data=[data_of_df2], columns=['col_1y', 'col_2y', 'col_3y', 'col_4y', 'col_5y'])"
      ],
      "metadata": {
        "id": "iPWUP-MGHLsb"
      },
      "execution_count": null,
      "outputs": []
    },
    {
      "cell_type": "code",
      "source": [
        "#8. Concatene os dois Dataframes\n",
        "#Você pode criar outro ou apenas substituir por um Datafram existente\n",
        "df1 = pd.concat ([df1,df2])"
      ],
      "metadata": {
        "id": "1gcopPbUHN5D"
      },
      "execution_count": null,
      "outputs": []
    },
    {
      "cell_type": "code",
      "source": [
        "#9. Após concatenar, basta exportar para o excel tirando todos os índices e os cabeçalhos. Coloque a extensão .xlsx no final do nome\n",
        "df1.to_excel('Concatenado.xlsx', index=False, header=None)"
      ],
      "metadata": {
        "id": "yYgt5JazHR7r"
      },
      "execution_count": null,
      "outputs": []
    }
  ]
}